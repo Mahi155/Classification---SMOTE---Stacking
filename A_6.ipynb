{
  "nbformat": 4,
  "nbformat_minor": 0,
  "metadata": {
    "colab": {
      "name": "A-6.ipynb",
      "provenance": [],
      "collapsed_sections": []
    },
    "kernelspec": {
      "name": "python3",
      "display_name": "Python 3"
    }
  },
  "cells": [
    {
      "cell_type": "code",
      "metadata": {
        "id": "FXkE8XzqhNq-",
        "colab_type": "code",
        "outputId": "b18072fb-06db-4dab-a343-49c49e582ca4",
        "colab": {
          "base_uri": "https://localhost:8080/",
          "height": 106
        }
      },
      "source": [
        "pip install vecstack"
      ],
      "execution_count": 113,
      "outputs": [
        {
          "output_type": "stream",
          "text": [
            "Requirement already satisfied: vecstack in /usr/local/lib/python3.6/dist-packages (0.4.0)\n",
            "Requirement already satisfied: scipy in /usr/local/lib/python3.6/dist-packages (from vecstack) (1.3.3)\n",
            "Requirement already satisfied: scikit-learn>=0.18 in /usr/local/lib/python3.6/dist-packages (from vecstack) (0.21.3)\n",
            "Requirement already satisfied: numpy in /usr/local/lib/python3.6/dist-packages (from vecstack) (1.17.4)\n",
            "Requirement already satisfied: joblib>=0.11 in /usr/local/lib/python3.6/dist-packages (from scikit-learn>=0.18->vecstack) (0.14.0)\n"
          ],
          "name": "stdout"
        }
      ]
    },
    {
      "cell_type": "code",
      "metadata": {
        "id": "A7nYSuaNiN8F",
        "colab_type": "code",
        "colab": {}
      },
      "source": [
        "#Import all libraries\n",
        "from vecstack import stacking\n",
        "import random\n",
        "import pandas as pd\n",
        "import numpy as np\n",
        "import seaborn as sns\n",
        "import matplotlib.pyplot as plt\n",
        "from sklearn.tree import DecisionTreeClassifier\n",
        "from sklearn import tree\n",
        "from sklearn.model_selection import GridSearchCV\n",
        "from sklearn.model_selection import RandomizedSearchCV\n",
        "from sklearn.metrics import confusion_matrix,classification_report,accuracy_score,balanced_accuracy_score\n",
        "from sklearn.model_selection import cross_val_score\n",
        "from sklearn.model_selection import train_test_split\n",
        "from sklearn.metrics import mean_squared_error, r2_score\n",
        "from sklearn.ensemble import RandomForestClassifier\n",
        "from sklearn.tree import DecisionTreeClassifier\n",
        "from sklearn.ensemble import GradientBoostingClassifier\n",
        "from sklearn.neural_network import MLPClassifier\n",
        "from sklearn.metrics import mean_squared_error\n",
        "from sklearn.model_selection import GridSearchCV\n",
        "from sklearn.model_selection import RandomizedSearchCV\n",
        "from sklearn.model_selection import cross_val_score\n",
        "from sklearn.metrics import roc_auc_score\n",
        "\n",
        "import warnings\n",
        "warnings.filterwarnings(\"ignore\")\n",
        "#Please ignore the warnings with version change"
      ],
      "execution_count": 0,
      "outputs": []
    },
    {
      "cell_type": "code",
      "metadata": {
        "id": "g1du8a9XiUL1",
        "colab_type": "code",
        "outputId": "47876313-3bd8-48cf-bd6e-a8e1b12ff393",
        "colab": {
          "base_uri": "https://localhost:8080/",
          "height": 53
        }
      },
      "source": [
        " #To upload our datasets from our working directory we need to mount our drive contents to the colab environment. \n",
        "# For the code to do so you can search “mount” in code snippets or use the code given below. \n",
        "# Our entire drive contents are now mounted on colab at the location “/gdrive”.\n",
        "\n",
        "from google.colab import drive\n",
        "drive.mount('/gdrive')\n",
        "#Change current working directory to gdrive\n",
        "%cd /gdrive"
      ],
      "execution_count": 115,
      "outputs": [
        {
          "output_type": "stream",
          "text": [
            "Drive already mounted at /gdrive; to attempt to forcibly remount, call drive.mount(\"/gdrive\", force_remount=True).\n",
            "/gdrive\n"
          ],
          "name": "stdout"
        }
      ]
    },
    {
      "cell_type": "code",
      "metadata": {
        "id": "Ga34dc5q6LMv",
        "colab_type": "code",
        "outputId": "2f224bd7-74f4-411c-dd90-30754e54dc35",
        "colab": {
          "base_uri": "https://localhost:8080/",
          "height": 244
        }
      },
      "source": [
        "#Read training data file\n",
        "\n",
        "trainfile = r'/gdrive/My Drive/508 - A6/Churn-Train-1.csv'\n",
        "trainData = pd.read_csv(trainfile)\n",
        "\n",
        "#Read test data file\n",
        "testfile = r'/gdrive/My Drive/508 - A6/Churn-Test-1.csv'\n",
        "testData = pd.read_csv(testfile)\n",
        "\n",
        "# copy of train data and test data to perform pre processing\n",
        "#cpy_traindata = trainData.copy()\n",
        "#cpy_testdata = testData.copy()\n",
        "\n",
        "trainData.head()"
      ],
      "execution_count": 116,
      "outputs": [
        {
          "output_type": "execute_result",
          "data": {
            "text/html": [
              "<div>\n",
              "<style scoped>\n",
              "    .dataframe tbody tr th:only-of-type {\n",
              "        vertical-align: middle;\n",
              "    }\n",
              "\n",
              "    .dataframe tbody tr th {\n",
              "        vertical-align: top;\n",
              "    }\n",
              "\n",
              "    .dataframe thead th {\n",
              "        text-align: right;\n",
              "    }\n",
              "</style>\n",
              "<table border=\"1\" class=\"dataframe\">\n",
              "  <thead>\n",
              "    <tr style=\"text-align: right;\">\n",
              "      <th></th>\n",
              "      <th>State</th>\n",
              "      <th>Account Length</th>\n",
              "      <th>Area Code</th>\n",
              "      <th>Phone</th>\n",
              "      <th>Int'l Plan</th>\n",
              "      <th>VMail Plan</th>\n",
              "      <th>VMail Message</th>\n",
              "      <th>Day Mins</th>\n",
              "      <th>Day Calls</th>\n",
              "      <th>Day Charge</th>\n",
              "      <th>Eve Mins</th>\n",
              "      <th>Eve Calls</th>\n",
              "      <th>Eve Charge</th>\n",
              "      <th>Night Mins</th>\n",
              "      <th>Night Calls</th>\n",
              "      <th>Night Charge</th>\n",
              "      <th>Intl Mins</th>\n",
              "      <th>Intl Calls</th>\n",
              "      <th>Intl Charge</th>\n",
              "      <th>CustServ Calls</th>\n",
              "      <th>TARGET</th>\n",
              "    </tr>\n",
              "  </thead>\n",
              "  <tbody>\n",
              "    <tr>\n",
              "      <th>0</th>\n",
              "      <td>KS</td>\n",
              "      <td>128</td>\n",
              "      <td>415</td>\n",
              "      <td>382-4657</td>\n",
              "      <td>no</td>\n",
              "      <td>yes</td>\n",
              "      <td>25</td>\n",
              "      <td>265.1</td>\n",
              "      <td>110</td>\n",
              "      <td>45.07</td>\n",
              "      <td>197.4</td>\n",
              "      <td>99</td>\n",
              "      <td>16.78</td>\n",
              "      <td>244.7</td>\n",
              "      <td>91</td>\n",
              "      <td>11.01</td>\n",
              "      <td>10.0</td>\n",
              "      <td>3</td>\n",
              "      <td>2.70</td>\n",
              "      <td>1</td>\n",
              "      <td>0</td>\n",
              "    </tr>\n",
              "    <tr>\n",
              "      <th>1</th>\n",
              "      <td>OH</td>\n",
              "      <td>107</td>\n",
              "      <td>415</td>\n",
              "      <td>371-7191</td>\n",
              "      <td>no</td>\n",
              "      <td>yes</td>\n",
              "      <td>26</td>\n",
              "      <td>161.6</td>\n",
              "      <td>123</td>\n",
              "      <td>27.47</td>\n",
              "      <td>195.5</td>\n",
              "      <td>103</td>\n",
              "      <td>16.62</td>\n",
              "      <td>254.4</td>\n",
              "      <td>103</td>\n",
              "      <td>11.45</td>\n",
              "      <td>13.7</td>\n",
              "      <td>3</td>\n",
              "      <td>3.70</td>\n",
              "      <td>1</td>\n",
              "      <td>0</td>\n",
              "    </tr>\n",
              "    <tr>\n",
              "      <th>2</th>\n",
              "      <td>NJ</td>\n",
              "      <td>137</td>\n",
              "      <td>415</td>\n",
              "      <td>358-1921</td>\n",
              "      <td>no</td>\n",
              "      <td>no</td>\n",
              "      <td>0</td>\n",
              "      <td>243.4</td>\n",
              "      <td>114</td>\n",
              "      <td>41.38</td>\n",
              "      <td>121.2</td>\n",
              "      <td>110</td>\n",
              "      <td>10.30</td>\n",
              "      <td>162.6</td>\n",
              "      <td>104</td>\n",
              "      <td>7.32</td>\n",
              "      <td>12.2</td>\n",
              "      <td>5</td>\n",
              "      <td>3.29</td>\n",
              "      <td>0</td>\n",
              "      <td>0</td>\n",
              "    </tr>\n",
              "    <tr>\n",
              "      <th>3</th>\n",
              "      <td>OH</td>\n",
              "      <td>84</td>\n",
              "      <td>408</td>\n",
              "      <td>375-9999</td>\n",
              "      <td>yes</td>\n",
              "      <td>no</td>\n",
              "      <td>0</td>\n",
              "      <td>299.4</td>\n",
              "      <td>71</td>\n",
              "      <td>50.90</td>\n",
              "      <td>61.9</td>\n",
              "      <td>88</td>\n",
              "      <td>5.26</td>\n",
              "      <td>196.9</td>\n",
              "      <td>89</td>\n",
              "      <td>8.86</td>\n",
              "      <td>6.6</td>\n",
              "      <td>7</td>\n",
              "      <td>1.78</td>\n",
              "      <td>2</td>\n",
              "      <td>0</td>\n",
              "    </tr>\n",
              "    <tr>\n",
              "      <th>4</th>\n",
              "      <td>OK</td>\n",
              "      <td>75</td>\n",
              "      <td>415</td>\n",
              "      <td>330-6626</td>\n",
              "      <td>yes</td>\n",
              "      <td>no</td>\n",
              "      <td>0</td>\n",
              "      <td>166.7</td>\n",
              "      <td>113</td>\n",
              "      <td>28.34</td>\n",
              "      <td>148.3</td>\n",
              "      <td>122</td>\n",
              "      <td>12.61</td>\n",
              "      <td>186.9</td>\n",
              "      <td>121</td>\n",
              "      <td>8.41</td>\n",
              "      <td>10.1</td>\n",
              "      <td>3</td>\n",
              "      <td>2.73</td>\n",
              "      <td>3</td>\n",
              "      <td>0</td>\n",
              "    </tr>\n",
              "  </tbody>\n",
              "</table>\n",
              "</div>"
            ],
            "text/plain": [
              "  State  Account Length  Area Code  ... Intl Charge CustServ Calls TARGET\n",
              "0    KS             128        415  ...        2.70              1      0\n",
              "1    OH             107        415  ...        3.70              1      0\n",
              "2    NJ             137        415  ...        3.29              0      0\n",
              "3    OH              84        408  ...        1.78              2      0\n",
              "4    OK              75        415  ...        2.73              3      0\n",
              "\n",
              "[5 rows x 21 columns]"
            ]
          },
          "metadata": {
            "tags": []
          },
          "execution_count": 116
        }
      ]
    },
    {
      "cell_type": "code",
      "metadata": {
        "id": "SFuN04Qa1lPV",
        "colab_type": "code",
        "outputId": "84952afc-75b1-4efa-aad0-b46aa73fd82d",
        "colab": {
          "base_uri": "https://localhost:8080/",
          "height": 766
        }
      },
      "source": [
        "#Shape and data types of data\n",
        "print(\"Training Data shape:\",trainData.shape)\n",
        "print(\"Test Data shape:\",testData.shape)\n",
        "print(\"Training Data types:\",trainData.dtypes)\n",
        "# variable data types\n",
        "trainData.describe()"
      ],
      "execution_count": 117,
      "outputs": [
        {
          "output_type": "stream",
          "text": [
            "Training Data shape: (1165, 21)\n",
            "Test Data shape: (1262, 21)\n",
            "Training Data types: State              object\n",
            "Account Length      int64\n",
            "Area Code           int64\n",
            "Phone              object\n",
            "Int'l Plan         object\n",
            "VMail Plan         object\n",
            "VMail Message       int64\n",
            "Day Mins          float64\n",
            "Day Calls           int64\n",
            "Day Charge        float64\n",
            "Eve Mins          float64\n",
            "Eve Calls           int64\n",
            "Eve Charge        float64\n",
            "Night Mins        float64\n",
            "Night Calls         int64\n",
            "Night Charge      float64\n",
            "Intl Mins         float64\n",
            "Intl Calls          int64\n",
            "Intl Charge       float64\n",
            "CustServ Calls      int64\n",
            "TARGET              int64\n",
            "dtype: object\n"
          ],
          "name": "stdout"
        },
        {
          "output_type": "execute_result",
          "data": {
            "text/html": [
              "<div>\n",
              "<style scoped>\n",
              "    .dataframe tbody tr th:only-of-type {\n",
              "        vertical-align: middle;\n",
              "    }\n",
              "\n",
              "    .dataframe tbody tr th {\n",
              "        vertical-align: top;\n",
              "    }\n",
              "\n",
              "    .dataframe thead th {\n",
              "        text-align: right;\n",
              "    }\n",
              "</style>\n",
              "<table border=\"1\" class=\"dataframe\">\n",
              "  <thead>\n",
              "    <tr style=\"text-align: right;\">\n",
              "      <th></th>\n",
              "      <th>Account Length</th>\n",
              "      <th>Area Code</th>\n",
              "      <th>VMail Message</th>\n",
              "      <th>Day Mins</th>\n",
              "      <th>Day Calls</th>\n",
              "      <th>Day Charge</th>\n",
              "      <th>Eve Mins</th>\n",
              "      <th>Eve Calls</th>\n",
              "      <th>Eve Charge</th>\n",
              "      <th>Night Mins</th>\n",
              "      <th>Night Calls</th>\n",
              "      <th>Night Charge</th>\n",
              "      <th>Intl Mins</th>\n",
              "      <th>Intl Calls</th>\n",
              "      <th>Intl Charge</th>\n",
              "      <th>CustServ Calls</th>\n",
              "      <th>TARGET</th>\n",
              "    </tr>\n",
              "  </thead>\n",
              "  <tbody>\n",
              "    <tr>\n",
              "      <th>count</th>\n",
              "      <td>1165.000000</td>\n",
              "      <td>1165.000000</td>\n",
              "      <td>1165.000000</td>\n",
              "      <td>1165.000000</td>\n",
              "      <td>1165.000000</td>\n",
              "      <td>1165.000000</td>\n",
              "      <td>1165.000000</td>\n",
              "      <td>1165.000000</td>\n",
              "      <td>1165.000000</td>\n",
              "      <td>1165.000000</td>\n",
              "      <td>1165.000000</td>\n",
              "      <td>1165.000000</td>\n",
              "      <td>1165.000000</td>\n",
              "      <td>1165.000000</td>\n",
              "      <td>1165.000000</td>\n",
              "      <td>1165.000000</td>\n",
              "      <td>1165.000000</td>\n",
              "    </tr>\n",
              "    <tr>\n",
              "      <th>mean</th>\n",
              "      <td>100.107296</td>\n",
              "      <td>437.899571</td>\n",
              "      <td>8.319313</td>\n",
              "      <td>181.588412</td>\n",
              "      <td>100.605150</td>\n",
              "      <td>30.870532</td>\n",
              "      <td>199.351073</td>\n",
              "      <td>99.871245</td>\n",
              "      <td>16.945021</td>\n",
              "      <td>199.931159</td>\n",
              "      <td>100.104721</td>\n",
              "      <td>8.996927</td>\n",
              "      <td>10.228155</td>\n",
              "      <td>4.550215</td>\n",
              "      <td>2.762172</td>\n",
              "      <td>1.539056</td>\n",
              "      <td>0.125322</td>\n",
              "    </tr>\n",
              "    <tr>\n",
              "      <th>std</th>\n",
              "      <td>40.128933</td>\n",
              "      <td>42.861654</td>\n",
              "      <td>13.730382</td>\n",
              "      <td>54.392831</td>\n",
              "      <td>19.819381</td>\n",
              "      <td>9.246717</td>\n",
              "      <td>52.633766</td>\n",
              "      <td>20.077314</td>\n",
              "      <td>4.473876</td>\n",
              "      <td>51.233628</td>\n",
              "      <td>19.899559</td>\n",
              "      <td>2.305449</td>\n",
              "      <td>2.833913</td>\n",
              "      <td>2.538757</td>\n",
              "      <td>0.765126</td>\n",
              "      <td>1.307352</td>\n",
              "      <td>0.331226</td>\n",
              "    </tr>\n",
              "    <tr>\n",
              "      <th>min</th>\n",
              "      <td>1.000000</td>\n",
              "      <td>408.000000</td>\n",
              "      <td>0.000000</td>\n",
              "      <td>12.500000</td>\n",
              "      <td>30.000000</td>\n",
              "      <td>2.130000</td>\n",
              "      <td>31.200000</td>\n",
              "      <td>12.000000</td>\n",
              "      <td>2.650000</td>\n",
              "      <td>43.700000</td>\n",
              "      <td>42.000000</td>\n",
              "      <td>1.970000</td>\n",
              "      <td>0.000000</td>\n",
              "      <td>0.000000</td>\n",
              "      <td>0.000000</td>\n",
              "      <td>0.000000</td>\n",
              "      <td>0.000000</td>\n",
              "    </tr>\n",
              "    <tr>\n",
              "      <th>25%</th>\n",
              "      <td>73.000000</td>\n",
              "      <td>408.000000</td>\n",
              "      <td>0.000000</td>\n",
              "      <td>146.800000</td>\n",
              "      <td>88.000000</td>\n",
              "      <td>24.960000</td>\n",
              "      <td>164.400000</td>\n",
              "      <td>87.000000</td>\n",
              "      <td>13.970000</td>\n",
              "      <td>167.000000</td>\n",
              "      <td>87.000000</td>\n",
              "      <td>7.520000</td>\n",
              "      <td>8.400000</td>\n",
              "      <td>3.000000</td>\n",
              "      <td>2.270000</td>\n",
              "      <td>1.000000</td>\n",
              "      <td>0.000000</td>\n",
              "    </tr>\n",
              "    <tr>\n",
              "      <th>50%</th>\n",
              "      <td>98.000000</td>\n",
              "      <td>415.000000</td>\n",
              "      <td>0.000000</td>\n",
              "      <td>182.300000</td>\n",
              "      <td>101.000000</td>\n",
              "      <td>30.990000</td>\n",
              "      <td>200.200000</td>\n",
              "      <td>100.000000</td>\n",
              "      <td>17.020000</td>\n",
              "      <td>200.500000</td>\n",
              "      <td>101.000000</td>\n",
              "      <td>9.020000</td>\n",
              "      <td>10.300000</td>\n",
              "      <td>4.000000</td>\n",
              "      <td>2.780000</td>\n",
              "      <td>1.000000</td>\n",
              "      <td>0.000000</td>\n",
              "    </tr>\n",
              "    <tr>\n",
              "      <th>75%</th>\n",
              "      <td>128.000000</td>\n",
              "      <td>510.000000</td>\n",
              "      <td>21.000000</td>\n",
              "      <td>216.000000</td>\n",
              "      <td>114.000000</td>\n",
              "      <td>36.720000</td>\n",
              "      <td>234.100000</td>\n",
              "      <td>114.000000</td>\n",
              "      <td>19.900000</td>\n",
              "      <td>236.600000</td>\n",
              "      <td>114.000000</td>\n",
              "      <td>10.650000</td>\n",
              "      <td>12.100000</td>\n",
              "      <td>6.000000</td>\n",
              "      <td>3.270000</td>\n",
              "      <td>2.000000</td>\n",
              "      <td>0.000000</td>\n",
              "    </tr>\n",
              "    <tr>\n",
              "      <th>max</th>\n",
              "      <td>243.000000</td>\n",
              "      <td>510.000000</td>\n",
              "      <td>51.000000</td>\n",
              "      <td>350.800000</td>\n",
              "      <td>165.000000</td>\n",
              "      <td>59.640000</td>\n",
              "      <td>351.600000</td>\n",
              "      <td>168.000000</td>\n",
              "      <td>29.890000</td>\n",
              "      <td>364.300000</td>\n",
              "      <td>175.000000</td>\n",
              "      <td>16.390000</td>\n",
              "      <td>20.000000</td>\n",
              "      <td>19.000000</td>\n",
              "      <td>5.400000</td>\n",
              "      <td>9.000000</td>\n",
              "      <td>1.000000</td>\n",
              "    </tr>\n",
              "  </tbody>\n",
              "</table>\n",
              "</div>"
            ],
            "text/plain": [
              "       Account Length    Area Code  ...  CustServ Calls       TARGET\n",
              "count     1165.000000  1165.000000  ...     1165.000000  1165.000000\n",
              "mean       100.107296   437.899571  ...        1.539056     0.125322\n",
              "std         40.128933    42.861654  ...        1.307352     0.331226\n",
              "min          1.000000   408.000000  ...        0.000000     0.000000\n",
              "25%         73.000000   408.000000  ...        1.000000     0.000000\n",
              "50%         98.000000   415.000000  ...        1.000000     0.000000\n",
              "75%        128.000000   510.000000  ...        2.000000     0.000000\n",
              "max        243.000000   510.000000  ...        9.000000     1.000000\n",
              "\n",
              "[8 rows x 17 columns]"
            ]
          },
          "metadata": {
            "tags": []
          },
          "execution_count": 117
        }
      ]
    },
    {
      "cell_type": "code",
      "metadata": {
        "id": "JamSM8CL-Lcw",
        "colab_type": "code",
        "colab": {
          "base_uri": "https://localhost:8080/",
          "height": 589
        },
        "outputId": "64000ace-d87e-4047-8631-df199dc7fa8b"
      },
      "source": [
        "# percentage missing data per column in training data\n",
        "trainData_na = (trainData.isnull().sum() / len(trainData)) * 100\n",
        "trainData_na = trainData_na.drop(trainData_na[trainData_na == 0].index).sort_values(ascending=False)\n",
        "missing_data = pd.DataFrame({'Missing Ratio' :trainData_na})\n",
        "missing_data['No_of_rows_missing'] = trainData.isnull().sum()\n",
        "print(\"Missing data in train\\n\",missing_data)\n",
        "# percentage missing data per column in test data\n",
        "testData_na = (testData.isnull().sum() / len(testData)) * 100\n",
        "testData_na = testData_na.drop(testData_na[testData_na == 0].index).sort_values(ascending=False)\n",
        "missing_data_test = pd.DataFrame({'Missing Ratio' :testData_na})\n",
        "missing_data_test['No_of_rows_missing'] = testData.isnull().sum()\n",
        "print(\"Missing data in test\\n\",missing_data_test)"
      ],
      "execution_count": 118,
      "outputs": [
        {
          "output_type": "stream",
          "text": [
            "Missing data in train\n",
            "                 Missing Ratio  No_of_rows_missing\n",
            "State                     NaN                   0\n",
            "Account Length            NaN                   0\n",
            "Area Code                 NaN                   0\n",
            "Phone                     NaN                   0\n",
            "Int'l Plan                NaN                   0\n",
            "VMail Plan                NaN                   0\n",
            "VMail Message             NaN                   0\n",
            "Day Mins                  NaN                   0\n",
            "Day Calls                 NaN                   0\n",
            "Day Charge                NaN                   0\n",
            "Eve Mins                  NaN                   0\n",
            "Eve Calls                 NaN                   0\n",
            "Eve Charge                NaN                   0\n",
            "Night Mins                NaN                   0\n",
            "Night Calls               NaN                   0\n",
            "Night Charge              NaN                   0\n",
            "Intl Mins                 NaN                   0\n",
            "Intl Calls                NaN                   0\n",
            "Intl Charge               NaN                   0\n",
            "CustServ Calls            NaN                   0\n",
            "TARGET                    NaN                   0\n",
            "Missing data in test\n",
            "                 Missing Ratio  No_of_rows_missing\n",
            "TARGET               0.079239                   1\n",
            "CustServ Calls       0.079239                   1\n",
            "Intl Charge          0.079239                   1\n",
            "Intl Calls           0.079239                   1\n",
            "Intl Mins            0.079239                   1\n",
            "Night Charge         0.079239                   1\n",
            "Night Calls          0.079239                   1\n"
          ],
          "name": "stdout"
        }
      ]
    },
    {
      "cell_type": "code",
      "metadata": {
        "id": "LmB12e7p-lmu",
        "colab_type": "code",
        "colab": {
          "base_uri": "https://localhost:8080/",
          "height": 35
        },
        "outputId": "c006b814-d024-486f-ca76-ebca5f8284eb"
      },
      "source": [
        "#remove 1 row with data missing from test data\n",
        "testData.dropna(subset=(['TARGET','CustServ Calls',\"Intl Charge\",\"Intl Calls\",\"Intl Mins\",\"Night Charge\", \"Night Calls\"]), how='all', inplace=True)\n",
        "print(\"After removing row with missing values-\", testData.shape)\n"
      ],
      "execution_count": 119,
      "outputs": [
        {
          "output_type": "stream",
          "text": [
            "After removing row with missing values- (1261, 21)\n"
          ],
          "name": "stdout"
        }
      ]
    },
    {
      "cell_type": "code",
      "metadata": {
        "id": "z_tRC8x52j2u",
        "colab_type": "code",
        "colab": {}
      },
      "source": [
        "#Copy Train data excluding target\n",
        "X_train = trainData.iloc[:, :-1].copy()\n",
        "\n",
        "#Select just Target Column\n",
        "y_train = trainData.iloc[:, -1]"
      ],
      "execution_count": 0,
      "outputs": []
    },
    {
      "cell_type": "code",
      "metadata": {
        "id": "Dd4Rh0PO3mxV",
        "colab_type": "code",
        "colab": {}
      },
      "source": [
        "#Copy Test data excluding target\n",
        "X_test = testData.iloc[:, :-1].copy()\n",
        "\n",
        "#Select just Target Column\n",
        "y_test = testData.iloc[:, -1]"
      ],
      "execution_count": 0,
      "outputs": []
    },
    {
      "cell_type": "code",
      "metadata": {
        "id": "FxY-9sI43iut",
        "colab_type": "code",
        "colab": {
          "base_uri": "https://localhost:8080/",
          "height": 244
        },
        "outputId": "fb98f691-46f4-469a-d7c2-ccd136a7da0c"
      },
      "source": [
        "testData.head()"
      ],
      "execution_count": 122,
      "outputs": [
        {
          "output_type": "execute_result",
          "data": {
            "text/html": [
              "<div>\n",
              "<style scoped>\n",
              "    .dataframe tbody tr th:only-of-type {\n",
              "        vertical-align: middle;\n",
              "    }\n",
              "\n",
              "    .dataframe tbody tr th {\n",
              "        vertical-align: top;\n",
              "    }\n",
              "\n",
              "    .dataframe thead th {\n",
              "        text-align: right;\n",
              "    }\n",
              "</style>\n",
              "<table border=\"1\" class=\"dataframe\">\n",
              "  <thead>\n",
              "    <tr style=\"text-align: right;\">\n",
              "      <th></th>\n",
              "      <th>State</th>\n",
              "      <th>Account Length</th>\n",
              "      <th>Area Code</th>\n",
              "      <th>Phone</th>\n",
              "      <th>Int'l Plan</th>\n",
              "      <th>VMail Plan</th>\n",
              "      <th>VMail Message</th>\n",
              "      <th>Day Mins</th>\n",
              "      <th>Day Calls</th>\n",
              "      <th>Day Charge</th>\n",
              "      <th>Eve Mins</th>\n",
              "      <th>Eve Calls</th>\n",
              "      <th>Eve Charge</th>\n",
              "      <th>Night Mins</th>\n",
              "      <th>Night Calls</th>\n",
              "      <th>Night Charge</th>\n",
              "      <th>Intl Mins</th>\n",
              "      <th>Intl Calls</th>\n",
              "      <th>Intl Charge</th>\n",
              "      <th>CustServ Calls</th>\n",
              "      <th>TARGET</th>\n",
              "    </tr>\n",
              "  </thead>\n",
              "  <tbody>\n",
              "    <tr>\n",
              "      <th>0</th>\n",
              "      <td>VT</td>\n",
              "      <td>50</td>\n",
              "      <td>415</td>\n",
              "      <td>387-5891</td>\n",
              "      <td>yes</td>\n",
              "      <td>yes</td>\n",
              "      <td>26</td>\n",
              "      <td>307.1</td>\n",
              "      <td>94</td>\n",
              "      <td>52.21</td>\n",
              "      <td>289.4</td>\n",
              "      <td>78</td>\n",
              "      <td>24.60</td>\n",
              "      <td>174.9</td>\n",
              "      <td>109.0</td>\n",
              "      <td>7.87</td>\n",
              "      <td>8.0</td>\n",
              "      <td>3.0</td>\n",
              "      <td>2.16</td>\n",
              "      <td>0.0</td>\n",
              "      <td>0.0</td>\n",
              "    </tr>\n",
              "    <tr>\n",
              "      <th>1</th>\n",
              "      <td>UT</td>\n",
              "      <td>72</td>\n",
              "      <td>415</td>\n",
              "      <td>368-8026</td>\n",
              "      <td>no</td>\n",
              "      <td>no</td>\n",
              "      <td>0</td>\n",
              "      <td>118.2</td>\n",
              "      <td>106</td>\n",
              "      <td>20.09</td>\n",
              "      <td>167.2</td>\n",
              "      <td>136</td>\n",
              "      <td>14.21</td>\n",
              "      <td>214.2</td>\n",
              "      <td>106.0</td>\n",
              "      <td>9.64</td>\n",
              "      <td>12.2</td>\n",
              "      <td>3.0</td>\n",
              "      <td>3.29</td>\n",
              "      <td>3.0</td>\n",
              "      <td>0.0</td>\n",
              "    </tr>\n",
              "    <tr>\n",
              "      <th>2</th>\n",
              "      <td>KS</td>\n",
              "      <td>130</td>\n",
              "      <td>510</td>\n",
              "      <td>332-9446</td>\n",
              "      <td>no</td>\n",
              "      <td>no</td>\n",
              "      <td>0</td>\n",
              "      <td>154.0</td>\n",
              "      <td>95</td>\n",
              "      <td>26.18</td>\n",
              "      <td>205.9</td>\n",
              "      <td>106</td>\n",
              "      <td>17.50</td>\n",
              "      <td>233.7</td>\n",
              "      <td>75.0</td>\n",
              "      <td>10.52</td>\n",
              "      <td>12.9</td>\n",
              "      <td>1.0</td>\n",
              "      <td>3.48</td>\n",
              "      <td>1.0</td>\n",
              "      <td>0.0</td>\n",
              "    </tr>\n",
              "    <tr>\n",
              "      <th>3</th>\n",
              "      <td>NV</td>\n",
              "      <td>143</td>\n",
              "      <td>408</td>\n",
              "      <td>393-5284</td>\n",
              "      <td>no</td>\n",
              "      <td>no</td>\n",
              "      <td>0</td>\n",
              "      <td>155.5</td>\n",
              "      <td>101</td>\n",
              "      <td>26.44</td>\n",
              "      <td>213.4</td>\n",
              "      <td>89</td>\n",
              "      <td>18.14</td>\n",
              "      <td>237.9</td>\n",
              "      <td>61.0</td>\n",
              "      <td>10.71</td>\n",
              "      <td>7.6</td>\n",
              "      <td>11.0</td>\n",
              "      <td>2.05</td>\n",
              "      <td>1.0</td>\n",
              "      <td>0.0</td>\n",
              "    </tr>\n",
              "    <tr>\n",
              "      <th>4</th>\n",
              "      <td>DE</td>\n",
              "      <td>89</td>\n",
              "      <td>510</td>\n",
              "      <td>376-1677</td>\n",
              "      <td>yes</td>\n",
              "      <td>no</td>\n",
              "      <td>0</td>\n",
              "      <td>125.6</td>\n",
              "      <td>108</td>\n",
              "      <td>21.35</td>\n",
              "      <td>213.0</td>\n",
              "      <td>90</td>\n",
              "      <td>18.11</td>\n",
              "      <td>181.7</td>\n",
              "      <td>108.0</td>\n",
              "      <td>8.18</td>\n",
              "      <td>5.4</td>\n",
              "      <td>5.0</td>\n",
              "      <td>1.46</td>\n",
              "      <td>1.0</td>\n",
              "      <td>0.0</td>\n",
              "    </tr>\n",
              "  </tbody>\n",
              "</table>\n",
              "</div>"
            ],
            "text/plain": [
              "  State  Account Length  Area Code  ... Intl Charge CustServ Calls TARGET\n",
              "0    VT              50        415  ...        2.16            0.0    0.0\n",
              "1    UT              72        415  ...        3.29            3.0    0.0\n",
              "2    KS             130        510  ...        3.48            1.0    0.0\n",
              "3    NV             143        408  ...        2.05            1.0    0.0\n",
              "4    DE              89        510  ...        1.46            1.0    0.0\n",
              "\n",
              "[5 rows x 21 columns]"
            ]
          },
          "metadata": {
            "tags": []
          },
          "execution_count": 122
        }
      ]
    },
    {
      "cell_type": "code",
      "metadata": {
        "id": "f2wjKTDy3wAJ",
        "colab_type": "code",
        "colab": {}
      },
      "source": [
        "#List of Categorical Features\n",
        "categoricalFeatures = [\"State\", \"Area Code\", \"Int'l Plan\", \"VMail Plan\"]"
      ],
      "execution_count": 0,
      "outputs": []
    },
    {
      "cell_type": "code",
      "metadata": {
        "id": "s57V3Y8AlE4r",
        "colab_type": "code",
        "outputId": "407c77af-8ef7-4e06-dedf-51c705450d62",
        "colab": {
          "base_uri": "https://localhost:8080/",
          "height": 53
        }
      },
      "source": [
        "#Combine Train and test for one Hot Encoding\n",
        "combined_Data = pd.concat([X_train, X_test], keys=[0,1])\n",
        "\n",
        "#Do one Hot encoding for categorical features for combined data\n",
        "combined_data = pd.get_dummies(combined_Data,columns=categoricalFeatures)\n",
        "\n",
        "combined_data = combined_data.drop([\"Phone\"], axis=1)\n",
        "\n",
        "#Separate Train data and test data\n",
        "X_Train = combined_data.xs(0)\n",
        "X_Test = combined_data.xs(1)\n",
        "\n",
        "X_Train = pd.DataFrame(X_Train)\n",
        "X_Test = pd.DataFrame(X_Test)\n",
        "\n",
        "print(\"Test data\",X_Test.shape)\n",
        "print(\"Training data\", X_Train.shape)"
      ],
      "execution_count": 124,
      "outputs": [
        {
          "output_type": "stream",
          "text": [
            "Test data (1261, 73)\n",
            "Training data (1165, 73)\n"
          ],
          "name": "stdout"
        }
      ]
    },
    {
      "cell_type": "code",
      "metadata": {
        "id": "EZfZbKhp6hdi",
        "colab_type": "code",
        "colab": {
          "base_uri": "https://localhost:8080/",
          "height": 244
        },
        "outputId": "9bacbf7b-3e81-4f99-a087-a2d41ff91d1e"
      },
      "source": [
        "X_Test.head()"
      ],
      "execution_count": 125,
      "outputs": [
        {
          "output_type": "execute_result",
          "data": {
            "text/html": [
              "<div>\n",
              "<style scoped>\n",
              "    .dataframe tbody tr th:only-of-type {\n",
              "        vertical-align: middle;\n",
              "    }\n",
              "\n",
              "    .dataframe tbody tr th {\n",
              "        vertical-align: top;\n",
              "    }\n",
              "\n",
              "    .dataframe thead th {\n",
              "        text-align: right;\n",
              "    }\n",
              "</style>\n",
              "<table border=\"1\" class=\"dataframe\">\n",
              "  <thead>\n",
              "    <tr style=\"text-align: right;\">\n",
              "      <th></th>\n",
              "      <th>Account Length</th>\n",
              "      <th>VMail Message</th>\n",
              "      <th>Day Mins</th>\n",
              "      <th>Day Calls</th>\n",
              "      <th>Day Charge</th>\n",
              "      <th>Eve Mins</th>\n",
              "      <th>Eve Calls</th>\n",
              "      <th>Eve Charge</th>\n",
              "      <th>Night Mins</th>\n",
              "      <th>Night Calls</th>\n",
              "      <th>Night Charge</th>\n",
              "      <th>Intl Mins</th>\n",
              "      <th>Intl Calls</th>\n",
              "      <th>Intl Charge</th>\n",
              "      <th>CustServ Calls</th>\n",
              "      <th>State_AK</th>\n",
              "      <th>State_AL</th>\n",
              "      <th>State_AR</th>\n",
              "      <th>State_AZ</th>\n",
              "      <th>State_CA</th>\n",
              "      <th>State_CO</th>\n",
              "      <th>State_CT</th>\n",
              "      <th>State_DC</th>\n",
              "      <th>State_DE</th>\n",
              "      <th>State_FL</th>\n",
              "      <th>State_GA</th>\n",
              "      <th>State_HI</th>\n",
              "      <th>State_IA</th>\n",
              "      <th>State_ID</th>\n",
              "      <th>State_IL</th>\n",
              "      <th>State_IN</th>\n",
              "      <th>State_KS</th>\n",
              "      <th>State_KY</th>\n",
              "      <th>State_LA</th>\n",
              "      <th>State_MA</th>\n",
              "      <th>State_MD</th>\n",
              "      <th>State_ME</th>\n",
              "      <th>State_MI</th>\n",
              "      <th>State_MN</th>\n",
              "      <th>State_MO</th>\n",
              "      <th>State_MS</th>\n",
              "      <th>State_MT</th>\n",
              "      <th>State_NC</th>\n",
              "      <th>State_ND</th>\n",
              "      <th>State_NE</th>\n",
              "      <th>State_NH</th>\n",
              "      <th>State_NJ</th>\n",
              "      <th>State_NM</th>\n",
              "      <th>State_NV</th>\n",
              "      <th>State_NY</th>\n",
              "      <th>State_OH</th>\n",
              "      <th>State_OK</th>\n",
              "      <th>State_OR</th>\n",
              "      <th>State_PA</th>\n",
              "      <th>State_RI</th>\n",
              "      <th>State_SC</th>\n",
              "      <th>State_SD</th>\n",
              "      <th>State_TN</th>\n",
              "      <th>State_TX</th>\n",
              "      <th>State_UT</th>\n",
              "      <th>State_VA</th>\n",
              "      <th>State_VT</th>\n",
              "      <th>State_WA</th>\n",
              "      <th>State_WI</th>\n",
              "      <th>State_WV</th>\n",
              "      <th>State_WY</th>\n",
              "      <th>Area Code_408</th>\n",
              "      <th>Area Code_415</th>\n",
              "      <th>Area Code_510</th>\n",
              "      <th>Int'l Plan_no</th>\n",
              "      <th>Int'l Plan_yes</th>\n",
              "      <th>VMail Plan_no</th>\n",
              "      <th>VMail Plan_yes</th>\n",
              "    </tr>\n",
              "  </thead>\n",
              "  <tbody>\n",
              "    <tr>\n",
              "      <th>0</th>\n",
              "      <td>50</td>\n",
              "      <td>26</td>\n",
              "      <td>307.1</td>\n",
              "      <td>94</td>\n",
              "      <td>52.21</td>\n",
              "      <td>289.4</td>\n",
              "      <td>78</td>\n",
              "      <td>24.60</td>\n",
              "      <td>174.9</td>\n",
              "      <td>109.0</td>\n",
              "      <td>7.87</td>\n",
              "      <td>8.0</td>\n",
              "      <td>3.0</td>\n",
              "      <td>2.16</td>\n",
              "      <td>0.0</td>\n",
              "      <td>0</td>\n",
              "      <td>0</td>\n",
              "      <td>0</td>\n",
              "      <td>0</td>\n",
              "      <td>0</td>\n",
              "      <td>0</td>\n",
              "      <td>0</td>\n",
              "      <td>0</td>\n",
              "      <td>0</td>\n",
              "      <td>0</td>\n",
              "      <td>0</td>\n",
              "      <td>0</td>\n",
              "      <td>0</td>\n",
              "      <td>0</td>\n",
              "      <td>0</td>\n",
              "      <td>0</td>\n",
              "      <td>0</td>\n",
              "      <td>0</td>\n",
              "      <td>0</td>\n",
              "      <td>0</td>\n",
              "      <td>0</td>\n",
              "      <td>0</td>\n",
              "      <td>0</td>\n",
              "      <td>0</td>\n",
              "      <td>0</td>\n",
              "      <td>0</td>\n",
              "      <td>0</td>\n",
              "      <td>0</td>\n",
              "      <td>0</td>\n",
              "      <td>0</td>\n",
              "      <td>0</td>\n",
              "      <td>0</td>\n",
              "      <td>0</td>\n",
              "      <td>0</td>\n",
              "      <td>0</td>\n",
              "      <td>0</td>\n",
              "      <td>0</td>\n",
              "      <td>0</td>\n",
              "      <td>0</td>\n",
              "      <td>0</td>\n",
              "      <td>0</td>\n",
              "      <td>0</td>\n",
              "      <td>0</td>\n",
              "      <td>0</td>\n",
              "      <td>0</td>\n",
              "      <td>0</td>\n",
              "      <td>1</td>\n",
              "      <td>0</td>\n",
              "      <td>0</td>\n",
              "      <td>0</td>\n",
              "      <td>0</td>\n",
              "      <td>0</td>\n",
              "      <td>1</td>\n",
              "      <td>0</td>\n",
              "      <td>0</td>\n",
              "      <td>1</td>\n",
              "      <td>0</td>\n",
              "      <td>1</td>\n",
              "    </tr>\n",
              "    <tr>\n",
              "      <th>1</th>\n",
              "      <td>72</td>\n",
              "      <td>0</td>\n",
              "      <td>118.2</td>\n",
              "      <td>106</td>\n",
              "      <td>20.09</td>\n",
              "      <td>167.2</td>\n",
              "      <td>136</td>\n",
              "      <td>14.21</td>\n",
              "      <td>214.2</td>\n",
              "      <td>106.0</td>\n",
              "      <td>9.64</td>\n",
              "      <td>12.2</td>\n",
              "      <td>3.0</td>\n",
              "      <td>3.29</td>\n",
              "      <td>3.0</td>\n",
              "      <td>0</td>\n",
              "      <td>0</td>\n",
              "      <td>0</td>\n",
              "      <td>0</td>\n",
              "      <td>0</td>\n",
              "      <td>0</td>\n",
              "      <td>0</td>\n",
              "      <td>0</td>\n",
              "      <td>0</td>\n",
              "      <td>0</td>\n",
              "      <td>0</td>\n",
              "      <td>0</td>\n",
              "      <td>0</td>\n",
              "      <td>0</td>\n",
              "      <td>0</td>\n",
              "      <td>0</td>\n",
              "      <td>0</td>\n",
              "      <td>0</td>\n",
              "      <td>0</td>\n",
              "      <td>0</td>\n",
              "      <td>0</td>\n",
              "      <td>0</td>\n",
              "      <td>0</td>\n",
              "      <td>0</td>\n",
              "      <td>0</td>\n",
              "      <td>0</td>\n",
              "      <td>0</td>\n",
              "      <td>0</td>\n",
              "      <td>0</td>\n",
              "      <td>0</td>\n",
              "      <td>0</td>\n",
              "      <td>0</td>\n",
              "      <td>0</td>\n",
              "      <td>0</td>\n",
              "      <td>0</td>\n",
              "      <td>0</td>\n",
              "      <td>0</td>\n",
              "      <td>0</td>\n",
              "      <td>0</td>\n",
              "      <td>0</td>\n",
              "      <td>0</td>\n",
              "      <td>0</td>\n",
              "      <td>0</td>\n",
              "      <td>0</td>\n",
              "      <td>1</td>\n",
              "      <td>0</td>\n",
              "      <td>0</td>\n",
              "      <td>0</td>\n",
              "      <td>0</td>\n",
              "      <td>0</td>\n",
              "      <td>0</td>\n",
              "      <td>0</td>\n",
              "      <td>1</td>\n",
              "      <td>0</td>\n",
              "      <td>1</td>\n",
              "      <td>0</td>\n",
              "      <td>1</td>\n",
              "      <td>0</td>\n",
              "    </tr>\n",
              "    <tr>\n",
              "      <th>2</th>\n",
              "      <td>130</td>\n",
              "      <td>0</td>\n",
              "      <td>154.0</td>\n",
              "      <td>95</td>\n",
              "      <td>26.18</td>\n",
              "      <td>205.9</td>\n",
              "      <td>106</td>\n",
              "      <td>17.50</td>\n",
              "      <td>233.7</td>\n",
              "      <td>75.0</td>\n",
              "      <td>10.52</td>\n",
              "      <td>12.9</td>\n",
              "      <td>1.0</td>\n",
              "      <td>3.48</td>\n",
              "      <td>1.0</td>\n",
              "      <td>0</td>\n",
              "      <td>0</td>\n",
              "      <td>0</td>\n",
              "      <td>0</td>\n",
              "      <td>0</td>\n",
              "      <td>0</td>\n",
              "      <td>0</td>\n",
              "      <td>0</td>\n",
              "      <td>0</td>\n",
              "      <td>0</td>\n",
              "      <td>0</td>\n",
              "      <td>0</td>\n",
              "      <td>0</td>\n",
              "      <td>0</td>\n",
              "      <td>0</td>\n",
              "      <td>0</td>\n",
              "      <td>1</td>\n",
              "      <td>0</td>\n",
              "      <td>0</td>\n",
              "      <td>0</td>\n",
              "      <td>0</td>\n",
              "      <td>0</td>\n",
              "      <td>0</td>\n",
              "      <td>0</td>\n",
              "      <td>0</td>\n",
              "      <td>0</td>\n",
              "      <td>0</td>\n",
              "      <td>0</td>\n",
              "      <td>0</td>\n",
              "      <td>0</td>\n",
              "      <td>0</td>\n",
              "      <td>0</td>\n",
              "      <td>0</td>\n",
              "      <td>0</td>\n",
              "      <td>0</td>\n",
              "      <td>0</td>\n",
              "      <td>0</td>\n",
              "      <td>0</td>\n",
              "      <td>0</td>\n",
              "      <td>0</td>\n",
              "      <td>0</td>\n",
              "      <td>0</td>\n",
              "      <td>0</td>\n",
              "      <td>0</td>\n",
              "      <td>0</td>\n",
              "      <td>0</td>\n",
              "      <td>0</td>\n",
              "      <td>0</td>\n",
              "      <td>0</td>\n",
              "      <td>0</td>\n",
              "      <td>0</td>\n",
              "      <td>0</td>\n",
              "      <td>0</td>\n",
              "      <td>1</td>\n",
              "      <td>1</td>\n",
              "      <td>0</td>\n",
              "      <td>1</td>\n",
              "      <td>0</td>\n",
              "    </tr>\n",
              "    <tr>\n",
              "      <th>3</th>\n",
              "      <td>143</td>\n",
              "      <td>0</td>\n",
              "      <td>155.5</td>\n",
              "      <td>101</td>\n",
              "      <td>26.44</td>\n",
              "      <td>213.4</td>\n",
              "      <td>89</td>\n",
              "      <td>18.14</td>\n",
              "      <td>237.9</td>\n",
              "      <td>61.0</td>\n",
              "      <td>10.71</td>\n",
              "      <td>7.6</td>\n",
              "      <td>11.0</td>\n",
              "      <td>2.05</td>\n",
              "      <td>1.0</td>\n",
              "      <td>0</td>\n",
              "      <td>0</td>\n",
              "      <td>0</td>\n",
              "      <td>0</td>\n",
              "      <td>0</td>\n",
              "      <td>0</td>\n",
              "      <td>0</td>\n",
              "      <td>0</td>\n",
              "      <td>0</td>\n",
              "      <td>0</td>\n",
              "      <td>0</td>\n",
              "      <td>0</td>\n",
              "      <td>0</td>\n",
              "      <td>0</td>\n",
              "      <td>0</td>\n",
              "      <td>0</td>\n",
              "      <td>0</td>\n",
              "      <td>0</td>\n",
              "      <td>0</td>\n",
              "      <td>0</td>\n",
              "      <td>0</td>\n",
              "      <td>0</td>\n",
              "      <td>0</td>\n",
              "      <td>0</td>\n",
              "      <td>0</td>\n",
              "      <td>0</td>\n",
              "      <td>0</td>\n",
              "      <td>0</td>\n",
              "      <td>0</td>\n",
              "      <td>0</td>\n",
              "      <td>0</td>\n",
              "      <td>0</td>\n",
              "      <td>0</td>\n",
              "      <td>1</td>\n",
              "      <td>0</td>\n",
              "      <td>0</td>\n",
              "      <td>0</td>\n",
              "      <td>0</td>\n",
              "      <td>0</td>\n",
              "      <td>0</td>\n",
              "      <td>0</td>\n",
              "      <td>0</td>\n",
              "      <td>0</td>\n",
              "      <td>0</td>\n",
              "      <td>0</td>\n",
              "      <td>0</td>\n",
              "      <td>0</td>\n",
              "      <td>0</td>\n",
              "      <td>0</td>\n",
              "      <td>0</td>\n",
              "      <td>0</td>\n",
              "      <td>1</td>\n",
              "      <td>0</td>\n",
              "      <td>0</td>\n",
              "      <td>1</td>\n",
              "      <td>0</td>\n",
              "      <td>1</td>\n",
              "      <td>0</td>\n",
              "    </tr>\n",
              "    <tr>\n",
              "      <th>4</th>\n",
              "      <td>89</td>\n",
              "      <td>0</td>\n",
              "      <td>125.6</td>\n",
              "      <td>108</td>\n",
              "      <td>21.35</td>\n",
              "      <td>213.0</td>\n",
              "      <td>90</td>\n",
              "      <td>18.11</td>\n",
              "      <td>181.7</td>\n",
              "      <td>108.0</td>\n",
              "      <td>8.18</td>\n",
              "      <td>5.4</td>\n",
              "      <td>5.0</td>\n",
              "      <td>1.46</td>\n",
              "      <td>1.0</td>\n",
              "      <td>0</td>\n",
              "      <td>0</td>\n",
              "      <td>0</td>\n",
              "      <td>0</td>\n",
              "      <td>0</td>\n",
              "      <td>0</td>\n",
              "      <td>0</td>\n",
              "      <td>0</td>\n",
              "      <td>1</td>\n",
              "      <td>0</td>\n",
              "      <td>0</td>\n",
              "      <td>0</td>\n",
              "      <td>0</td>\n",
              "      <td>0</td>\n",
              "      <td>0</td>\n",
              "      <td>0</td>\n",
              "      <td>0</td>\n",
              "      <td>0</td>\n",
              "      <td>0</td>\n",
              "      <td>0</td>\n",
              "      <td>0</td>\n",
              "      <td>0</td>\n",
              "      <td>0</td>\n",
              "      <td>0</td>\n",
              "      <td>0</td>\n",
              "      <td>0</td>\n",
              "      <td>0</td>\n",
              "      <td>0</td>\n",
              "      <td>0</td>\n",
              "      <td>0</td>\n",
              "      <td>0</td>\n",
              "      <td>0</td>\n",
              "      <td>0</td>\n",
              "      <td>0</td>\n",
              "      <td>0</td>\n",
              "      <td>0</td>\n",
              "      <td>0</td>\n",
              "      <td>0</td>\n",
              "      <td>0</td>\n",
              "      <td>0</td>\n",
              "      <td>0</td>\n",
              "      <td>0</td>\n",
              "      <td>0</td>\n",
              "      <td>0</td>\n",
              "      <td>0</td>\n",
              "      <td>0</td>\n",
              "      <td>0</td>\n",
              "      <td>0</td>\n",
              "      <td>0</td>\n",
              "      <td>0</td>\n",
              "      <td>0</td>\n",
              "      <td>0</td>\n",
              "      <td>0</td>\n",
              "      <td>1</td>\n",
              "      <td>0</td>\n",
              "      <td>1</td>\n",
              "      <td>1</td>\n",
              "      <td>0</td>\n",
              "    </tr>\n",
              "  </tbody>\n",
              "</table>\n",
              "</div>"
            ],
            "text/plain": [
              "   Account Length  VMail Message  ...  VMail Plan_no  VMail Plan_yes\n",
              "0              50             26  ...              0               1\n",
              "1              72              0  ...              1               0\n",
              "2             130              0  ...              1               0\n",
              "3             143              0  ...              1               0\n",
              "4              89              0  ...              1               0\n",
              "\n",
              "[5 rows x 73 columns]"
            ]
          },
          "metadata": {
            "tags": []
          },
          "execution_count": 125
        }
      ]
    },
    {
      "cell_type": "code",
      "metadata": {
        "id": "-3DNspkE7Al3",
        "colab_type": "code",
        "colab": {
          "base_uri": "https://localhost:8080/",
          "height": 53
        },
        "outputId": "3478b124-5da3-4f66-8efa-45269ccbee2f"
      },
      "source": [
        "# check if there are any missing values in any column\n",
        "print(\"Number of null values in train data\",X_Train.isnull().sum().sum())\n",
        "print(\"Number of null values in test data\",X_Test.isnull().sum().sum())\n",
        "# no missing values"
      ],
      "execution_count": 126,
      "outputs": [
        {
          "output_type": "stream",
          "text": [
            "Number of null values in train data 0\n",
            "Number of null values in test data 0\n"
          ],
          "name": "stdout"
        }
      ]
    },
    {
      "cell_type": "code",
      "metadata": {
        "id": "XeqD8NdhBXj4",
        "colab_type": "code",
        "outputId": "48115ea5-c66e-4796-fbc5-1956124cf8a9",
        "colab": {
          "base_uri": "https://localhost:8080/",
          "height": 71
        }
      },
      "source": [
        "#Decision Tree Classifier ========================================================================\n",
        "#CONSTRUCT DEFAULT DECISION TREE AND OBTAIN RESPECTIVE ACCURACY \n",
        "clf = DecisionTreeClassifier()\n",
        "clf.fit(X_Train, y_train)\n",
        "model_score = clf.score(X_Train, y_train)\n",
        "print('coefficient of determination R^2 of the prediction.:',model_score)\n",
        "clf_predict_Train=clf.predict(X_Test)\n",
        "\n",
        "#clf.feature_importances_\n",
        "print(\"Root Mean squared error: %.2f\"% np.sqrt(mean_squared_error(y_test, clf_predict_Train)))\n",
        "\n",
        "\n",
        "print('Test Variance score: %.2f' % r2_score(y_test, clf_predict_Train))"
      ],
      "execution_count": 127,
      "outputs": [
        {
          "output_type": "stream",
          "text": [
            "coefficient of determination R^2 of the prediction.: 1.0\n",
            "Root Mean squared error: 0.29\n",
            "Test Variance score: 0.37\n"
          ],
          "name": "stdout"
        }
      ]
    },
    {
      "cell_type": "code",
      "metadata": {
        "id": "WwT-NtZG_eNd",
        "colab_type": "code",
        "colab": {
          "base_uri": "https://localhost:8080/",
          "height": 178
        },
        "outputId": "1a71e802-56ad-4ec6-bc34-26e5e941d550"
      },
      "source": [
        "#Print Classification Report\n",
        "print(classification_report(y_test,clf_predict_Train))"
      ],
      "execution_count": 128,
      "outputs": [
        {
          "output_type": "stream",
          "text": [
            "              precision    recall  f1-score   support\n",
            "\n",
            "         0.0       0.94      0.96      0.95      1069\n",
            "         1.0       0.77      0.67      0.71       192\n",
            "\n",
            "    accuracy                           0.92      1261\n",
            "   macro avg       0.85      0.82      0.83      1261\n",
            "weighted avg       0.91      0.92      0.92      1261\n",
            "\n"
          ],
          "name": "stdout"
        }
      ]
    },
    {
      "cell_type": "code",
      "metadata": {
        "id": "lKlQN2V5EI2w",
        "colab_type": "code",
        "colab": {
          "base_uri": "https://localhost:8080/",
          "height": 35
        },
        "outputId": "6aad4797-8985-4aed-e303-82a107a0e57a"
      },
      "source": [
        "roc_auc_score(y_test,clf_predict_Train)"
      ],
      "execution_count": 129,
      "outputs": [
        {
          "output_type": "execute_result",
          "data": {
            "text/plain": [
              "0.8150919862800123"
            ]
          },
          "metadata": {
            "tags": []
          },
          "execution_count": 129
        }
      ]
    },
    {
      "cell_type": "code",
      "metadata": {
        "id": "kc3luzzoAIa4",
        "colab_type": "code",
        "colab": {
          "base_uri": "https://localhost:8080/",
          "height": 71
        },
        "outputId": "db656bca-f843-40ca-9269-9a695d3fc37e"
      },
      "source": [
        "#MLP ============================================================\n",
        "model =MLPClassifier()\n",
        "model = model.fit(X_Train, y_train)\n",
        "MLP_score = model.score(X_Train, y_train)\n",
        "print('coefficient of determination R^2 of the prediction.:',MLP_score)\n",
        "\n",
        "\n",
        "y_pred = model.predict(X_Test)\n",
        "\n",
        "# The mean squared error\n",
        "print(\"Root Mean squared error: %.2f\"% np.sqrt(mean_squared_error(y_test, y_pred)))\n",
        "# Explained variance score: 1 is perfect prediction\n",
        "print('Test Variance score: %.2f' % r2_score(y_test, y_pred))"
      ],
      "execution_count": 130,
      "outputs": [
        {
          "output_type": "stream",
          "text": [
            "coefficient of determination R^2 of the prediction.: 0.8909871244635194\n",
            "Root Mean squared error: 0.39\n",
            "Test Variance score: -0.16\n"
          ],
          "name": "stdout"
        }
      ]
    },
    {
      "cell_type": "code",
      "metadata": {
        "id": "yFwz4N7HAZwl",
        "colab_type": "code",
        "colab": {
          "base_uri": "https://localhost:8080/",
          "height": 178
        },
        "outputId": "6041f832-7c27-4dcb-9bae-505a31f30b75"
      },
      "source": [
        "#Print Classification Report\n",
        "print(classification_report(y_test, y_pred))"
      ],
      "execution_count": 131,
      "outputs": [
        {
          "output_type": "stream",
          "text": [
            "              precision    recall  f1-score   support\n",
            "\n",
            "         0.0       0.85      1.00      0.92      1069\n",
            "         1.0       0.62      0.04      0.08       192\n",
            "\n",
            "    accuracy                           0.85      1261\n",
            "   macro avg       0.73      0.52      0.50      1261\n",
            "weighted avg       0.82      0.85      0.79      1261\n",
            "\n"
          ],
          "name": "stdout"
        }
      ]
    },
    {
      "cell_type": "code",
      "metadata": {
        "id": "hN0Tqe-lENKm",
        "colab_type": "code",
        "colab": {
          "base_uri": "https://localhost:8080/",
          "height": 35
        },
        "outputId": "51172ace-4547-4212-d8ff-ad003e108720"
      },
      "source": [
        "roc_auc_score(y_test, y_pred)"
      ],
      "execution_count": 132,
      "outputs": [
        {
          "output_type": "execute_result",
          "data": {
            "text/plain": [
              "0.5184946990957282"
            ]
          },
          "metadata": {
            "tags": []
          },
          "execution_count": 132
        }
      ]
    },
    {
      "cell_type": "code",
      "metadata": {
        "id": "IkE9NadGAZon",
        "colab_type": "code",
        "colab": {
          "base_uri": "https://localhost:8080/",
          "height": 71
        },
        "outputId": "a0f81d7f-b043-4b4d-9c1f-0cd36c1f214f"
      },
      "source": [
        "#Random Forest Classifier==============================================================================\n",
        "\n",
        "rfr = RandomForestClassifier()\n",
        "rfr.fit(X_Train, y_train)\n",
        "RF_score = rfr.score(X_Train, y_train)\n",
        "print('coefficient of determination R^2 of the prediction.:',RF_score)\n",
        "rfr_predict_Train=rfr.predict(X_Test)\n",
        "\n",
        "#clf.feature_importances_\n",
        "print(\"Root Mean squared error: %.2f\"% np.sqrt(mean_squared_error(y_test, rfr_predict_Train)))\n",
        "\n",
        "\n",
        "print('Test Variance score: %.2f' % r2_score(y_test, rfr_predict_Train))"
      ],
      "execution_count": 133,
      "outputs": [
        {
          "output_type": "stream",
          "text": [
            "coefficient of determination R^2 of the prediction.: 0.9948497854077253\n",
            "Root Mean squared error: 0.32\n",
            "Test Variance score: 0.22\n"
          ],
          "name": "stdout"
        }
      ]
    },
    {
      "cell_type": "code",
      "metadata": {
        "id": "wUrnJfckAZff",
        "colab_type": "code",
        "colab": {
          "base_uri": "https://localhost:8080/",
          "height": 178
        },
        "outputId": "a4ef021e-1e96-4a9b-830b-a97ef9d09b40"
      },
      "source": [
        "#Print Classification Report\n",
        "print(classification_report(y_test, rfr_predict_Train))"
      ],
      "execution_count": 134,
      "outputs": [
        {
          "output_type": "stream",
          "text": [
            "              precision    recall  f1-score   support\n",
            "\n",
            "         0.0       0.90      1.00      0.94      1069\n",
            "         1.0       0.95      0.36      0.52       192\n",
            "\n",
            "    accuracy                           0.90      1261\n",
            "   macro avg       0.92      0.68      0.73      1261\n",
            "weighted avg       0.90      0.90      0.88      1261\n",
            "\n"
          ],
          "name": "stdout"
        }
      ]
    },
    {
      "cell_type": "code",
      "metadata": {
        "id": "v_d1lju1EQW8",
        "colab_type": "code",
        "colab": {
          "base_uri": "https://localhost:8080/",
          "height": 35
        },
        "outputId": "d2948028-ee6d-4e62-8e54-6eaa8ad3d1df"
      },
      "source": [
        "roc_auc_score(y_test, rfr_predict_Train)"
      ],
      "execution_count": 135,
      "outputs": [
        {
          "output_type": "execute_result",
          "data": {
            "text/plain": [
              "0.6778165926099159"
            ]
          },
          "metadata": {
            "tags": []
          },
          "execution_count": 135
        }
      ]
    },
    {
      "cell_type": "code",
      "metadata": {
        "id": "NtqjeKnCAZUh",
        "colab_type": "code",
        "colab": {
          "base_uri": "https://localhost:8080/",
          "height": 71
        },
        "outputId": "3331e50f-b27f-489e-a118-dd5b781d1c7f"
      },
      "source": [
        "#SVM ============================================================\n",
        "from sklearn.svm import SVC\n",
        "model =SVC()\n",
        "model = model.fit(X_Train, y_train)\n",
        "SVC_score = model.score(X_Train, y_train)\n",
        "print('coefficient of determination R^2 of the prediction.:',SVC_score)\n",
        "\n",
        "y_predictedsvm = model.predict(X_Test)\n",
        "\n",
        "# The mean squared error\n",
        "print(\"Root Mean squared error: %.2f\"% np.sqrt(mean_squared_error(y_test, y_predictedsvm)))\n",
        "# Explained variance score: 1 is perfect prediction\n",
        "print('Test Variance score: %.2f' % r2_score(y_test, y_predictedsvm))\n"
      ],
      "execution_count": 136,
      "outputs": [
        {
          "output_type": "stream",
          "text": [
            "coefficient of determination R^2 of the prediction.: 1.0\n",
            "Root Mean squared error: 0.39\n",
            "Test Variance score: -0.18\n"
          ],
          "name": "stdout"
        }
      ]
    },
    {
      "cell_type": "code",
      "metadata": {
        "id": "JHTwKNfkC77u",
        "colab_type": "code",
        "colab": {
          "base_uri": "https://localhost:8080/",
          "height": 178
        },
        "outputId": "74b9e6c0-af6c-4107-932f-095614e679e4"
      },
      "source": [
        "#Print Classification Report\n",
        "print(classification_report(y_test, y_predictedsvm))"
      ],
      "execution_count": 137,
      "outputs": [
        {
          "output_type": "stream",
          "text": [
            "              precision    recall  f1-score   support\n",
            "\n",
            "         0.0       0.85      1.00      0.92      1069\n",
            "         1.0       0.00      0.00      0.00       192\n",
            "\n",
            "    accuracy                           0.85      1261\n",
            "   macro avg       0.42      0.50      0.46      1261\n",
            "weighted avg       0.72      0.85      0.78      1261\n",
            "\n"
          ],
          "name": "stdout"
        }
      ]
    },
    {
      "cell_type": "code",
      "metadata": {
        "id": "1G4ehgpVETlr",
        "colab_type": "code",
        "colab": {
          "base_uri": "https://localhost:8080/",
          "height": 35
        },
        "outputId": "585d86aa-2376-4766-f3cb-47d82399a34f"
      },
      "source": [
        "roc_auc_score(y_test, y_predictedsvm)"
      ],
      "execution_count": 138,
      "outputs": [
        {
          "output_type": "execute_result",
          "data": {
            "text/plain": [
              "0.5"
            ]
          },
          "metadata": {
            "tags": []
          },
          "execution_count": 138
        }
      ]
    },
    {
      "cell_type": "code",
      "metadata": {
        "id": "nSZnvaGSC71U",
        "colab_type": "code",
        "colab": {
          "base_uri": "https://localhost:8080/",
          "height": 142
        },
        "outputId": "fe069318-6a23-4cb5-c078-9fefd584057d"
      },
      "source": [
        "# Hyper parameter Tuning Decision Tree Classifier\n",
        "clf = DecisionTreeClassifier()\n",
        "parameters={'criterion':('gini','entropy'),'min_samples_split' : range(10,50,10),'max_depth': range(1,10,2)}\n",
        "clf_random = RandomizedSearchCV(clf,parameters,n_iter=5)\n",
        "clf_random.fit(X_Train, y_train)\n",
        "grid_parm=clf_random.best_params_\n",
        "print(grid_parm)\n",
        "\n",
        "#Using the parameters obtained from HyperParameterTuning in the DecisionTreeClassifier \n",
        "clf = DecisionTreeClassifier(**grid_parm)\n",
        "clf.fit(X_Train,y_train)\n"
      ],
      "execution_count": 144,
      "outputs": [
        {
          "output_type": "stream",
          "text": [
            "{'min_samples_split': 30, 'max_depth': 7, 'criterion': 'gini'}\n"
          ],
          "name": "stdout"
        },
        {
          "output_type": "execute_result",
          "data": {
            "text/plain": [
              "DecisionTreeClassifier(class_weight=None, criterion='gini', max_depth=7,\n",
              "                       max_features=None, max_leaf_nodes=None,\n",
              "                       min_impurity_decrease=0.0, min_impurity_split=None,\n",
              "                       min_samples_leaf=1, min_samples_split=30,\n",
              "                       min_weight_fraction_leaf=0.0, presort=False,\n",
              "                       random_state=None, splitter='best')"
            ]
          },
          "metadata": {
            "tags": []
          },
          "execution_count": 144
        }
      ]
    },
    {
      "cell_type": "code",
      "metadata": {
        "id": "7HK25c_GC7rJ",
        "colab_type": "code",
        "colab": {
          "base_uri": "https://localhost:8080/",
          "height": 53
        },
        "outputId": "4eeb99e6-abb0-467e-dc3c-4fb2a1991c1f"
      },
      "source": [
        "clf_predict = clf.predict(X_Test)\n",
        "# The mean squared error\n",
        "print(\"Root Mean squared error: %.2f\"% np.sqrt(mean_squared_error(y_test, clf_predict)))\n",
        "# Explained variance score: 1 is perfect prediction\n",
        "print('Test Variance score: %.2f' % r2_score(y_test, clf_predict))"
      ],
      "execution_count": 145,
      "outputs": [
        {
          "output_type": "stream",
          "text": [
            "Root Mean squared error: 0.27\n",
            "Test Variance score: 0.44\n"
          ],
          "name": "stdout"
        }
      ]
    },
    {
      "cell_type": "code",
      "metadata": {
        "id": "qmIP17gOGBWR",
        "colab_type": "code",
        "colab": {
          "base_uri": "https://localhost:8080/",
          "height": 178
        },
        "outputId": "aad1694c-c32e-4ba9-a1e3-89f552d24534"
      },
      "source": [
        "#Print Classification Report\n",
        "print(classification_report(y_test, clf_predict))"
      ],
      "execution_count": 146,
      "outputs": [
        {
          "output_type": "stream",
          "text": [
            "              precision    recall  f1-score   support\n",
            "\n",
            "         0.0       0.93      0.99      0.96      1069\n",
            "         1.0       0.94      0.56      0.70       192\n",
            "\n",
            "    accuracy                           0.93      1261\n",
            "   macro avg       0.93      0.78      0.83      1261\n",
            "weighted avg       0.93      0.93      0.92      1261\n",
            "\n"
          ],
          "name": "stdout"
        }
      ]
    },
    {
      "cell_type": "code",
      "metadata": {
        "id": "VMpgACV0GBQy",
        "colab_type": "code",
        "colab": {
          "base_uri": "https://localhost:8080/",
          "height": 35
        },
        "outputId": "3f3c27cc-56dd-4b27-bae3-d9a0f593b01f"
      },
      "source": [
        "roc_auc_score(y_test, clf_predict)"
      ],
      "execution_count": 147,
      "outputs": [
        {
          "output_type": "execute_result",
          "data": {
            "text/plain": [
              "0.7779759120673527"
            ]
          },
          "metadata": {
            "tags": []
          },
          "execution_count": 147
        }
      ]
    },
    {
      "cell_type": "code",
      "metadata": {
        "id": "jm-NbJj-GBCp",
        "colab_type": "code",
        "colab": {
          "base_uri": "https://localhost:8080/",
          "height": 160
        },
        "outputId": "27ebc94f-611a-49d2-af9a-8b35610ff082"
      },
      "source": [
        "# Hyper parameter Tuning MLP Classifier\n",
        "clf1 =MLPClassifier()\n",
        "parameters={'activation':('identity', 'logistic'),'solver' : ('lbfgs', 'sgd'),'learning_rate': ('constant', 'invscaling')}\n",
        "clf1_random = RandomizedSearchCV(clf1,parameters,n_iter=5)\n",
        "clf1_random.fit(X_Train, y_train)\n",
        "grid_parm=clf1_random.best_params_\n",
        "print(grid_parm)\n",
        "\n",
        "#Using the parameters obtained from HyperParameterTuning in the DecisionTreeClassifier \n",
        "clf1 = MLPClassifier(**grid_parm)\n",
        "clf1.fit(X_Train,y_train)\n"
      ],
      "execution_count": 151,
      "outputs": [
        {
          "output_type": "stream",
          "text": [
            "{'solver': 'lbfgs', 'learning_rate': 'invscaling', 'activation': 'identity'}\n"
          ],
          "name": "stdout"
        },
        {
          "output_type": "execute_result",
          "data": {
            "text/plain": [
              "MLPClassifier(activation='identity', alpha=0.0001, batch_size='auto',\n",
              "              beta_1=0.9, beta_2=0.999, early_stopping=False, epsilon=1e-08,\n",
              "              hidden_layer_sizes=(100,), learning_rate='invscaling',\n",
              "              learning_rate_init=0.001, max_iter=200, momentum=0.9,\n",
              "              n_iter_no_change=10, nesterovs_momentum=True, power_t=0.5,\n",
              "              random_state=None, shuffle=True, solver='lbfgs', tol=0.0001,\n",
              "              validation_fraction=0.1, verbose=False, warm_start=False)"
            ]
          },
          "metadata": {
            "tags": []
          },
          "execution_count": 151
        }
      ]
    },
    {
      "cell_type": "code",
      "metadata": {
        "id": "xYb6XEFiGA3W",
        "colab_type": "code",
        "colab": {
          "base_uri": "https://localhost:8080/",
          "height": 53
        },
        "outputId": "c8941f82-6b99-43ab-916e-9421221ad3f6"
      },
      "source": [
        "clf1_predict = clf1.predict(X_Test)\n",
        "# The mean squared error\n",
        "print(\"Root Mean squared error: %.2f\"% np.sqrt(mean_squared_error(y_test, clf1_predict)))\n",
        "# Explained variance score: 1 is perfect prediction\n",
        "print('Test Variance score: %.2f' % r2_score(y_test, clf1_predict))"
      ],
      "execution_count": 152,
      "outputs": [
        {
          "output_type": "stream",
          "text": [
            "Root Mean squared error: 0.39\n",
            "Test Variance score: -0.18\n"
          ],
          "name": "stdout"
        }
      ]
    },
    {
      "cell_type": "code",
      "metadata": {
        "id": "yetJsoP9GhEt",
        "colab_type": "code",
        "outputId": "3b82aafb-624c-4c5b-f851-42bcaf59df35",
        "colab": {
          "base_uri": "https://localhost:8080/",
          "height": 178
        }
      },
      "source": [
        "#Print Classification Report\n",
        "print(classification_report(y_test, clf1_predict))"
      ],
      "execution_count": 153,
      "outputs": [
        {
          "output_type": "stream",
          "text": [
            "              precision    recall  f1-score   support\n",
            "\n",
            "         0.0       0.85      1.00      0.92      1069\n",
            "         1.0       0.00      0.00      0.00       192\n",
            "\n",
            "    accuracy                           0.85      1261\n",
            "   macro avg       0.42      0.50      0.46      1261\n",
            "weighted avg       0.72      0.85      0.78      1261\n",
            "\n"
          ],
          "name": "stdout"
        }
      ]
    },
    {
      "cell_type": "code",
      "metadata": {
        "id": "JyXmc2nPBBmN",
        "colab_type": "code",
        "outputId": "5d2f0188-7c6f-468d-8628-d802ad84411c",
        "colab": {
          "base_uri": "https://localhost:8080/",
          "height": 35
        }
      },
      "source": [
        "roc_auc_score(y_test, clf1_predict)"
      ],
      "execution_count": 154,
      "outputs": [
        {
          "output_type": "execute_result",
          "data": {
            "text/plain": [
              "0.5"
            ]
          },
          "metadata": {
            "tags": []
          },
          "execution_count": 154
        }
      ]
    },
    {
      "cell_type": "code",
      "metadata": {
        "id": "1Mmm2-RTBB2V",
        "colab_type": "code",
        "colab": {
          "base_uri": "https://localhost:8080/",
          "height": 160
        },
        "outputId": "a0827b8d-a022-4baf-aa1b-155d6b03baed"
      },
      "source": [
        "# Hyper parameter Tuning Random Forest Classifier\n",
        "clf2 = RandomForestClassifier()\n",
        "parameters = {'n_estimators': range(50,100,10),\n",
        "              'min_samples_split' : range(10,100,10),\n",
        "              'max_depth': range(1,20,2)\n",
        "              }\n",
        "\n",
        "clf2_random = RandomizedSearchCV(clf2,parameters,n_iter=5)\n",
        "clf2_random.fit(X_Train, y_train)\n",
        "grid_parm=clf2_random.best_params_\n",
        "print(grid_parm)\n",
        "\n",
        "#Using the parameters obtained from HyperParameterTuning in the DecisionTreeClassifier \n",
        "clf2 = RandomForestClassifier(**grid_parm)\n",
        "clf2.fit(X_Train,y_train)\n"
      ],
      "execution_count": 155,
      "outputs": [
        {
          "output_type": "stream",
          "text": [
            "{'n_estimators': 60, 'min_samples_split': 40, 'max_depth': 19}\n"
          ],
          "name": "stdout"
        },
        {
          "output_type": "execute_result",
          "data": {
            "text/plain": [
              "RandomForestClassifier(bootstrap=True, class_weight=None, criterion='gini',\n",
              "                       max_depth=19, max_features='auto', max_leaf_nodes=None,\n",
              "                       min_impurity_decrease=0.0, min_impurity_split=None,\n",
              "                       min_samples_leaf=1, min_samples_split=40,\n",
              "                       min_weight_fraction_leaf=0.0, n_estimators=60,\n",
              "                       n_jobs=None, oob_score=False, random_state=None,\n",
              "                       verbose=0, warm_start=False)"
            ]
          },
          "metadata": {
            "tags": []
          },
          "execution_count": 155
        }
      ]
    },
    {
      "cell_type": "code",
      "metadata": {
        "id": "9lIMyri5CzHX",
        "colab_type": "code",
        "outputId": "14734209-2a73-457c-cbc4-b10d820dfee1",
        "colab": {
          "base_uri": "https://localhost:8080/",
          "height": 53
        }
      },
      "source": [
        "clf2_predict = clf2.predict(X_Test)\n",
        "# The mean squared error\n",
        "print(\"Root Mean squared error: %.2f\"% np.sqrt(mean_squared_error(y_test, clf2_predict)))\n",
        "# Explained variance score: 1 is perfect prediction\n",
        "print('Test Variance score: %.2f' % r2_score(y_test, clf2_predict))"
      ],
      "execution_count": 156,
      "outputs": [
        {
          "output_type": "stream",
          "text": [
            "Root Mean squared error: 0.35\n",
            "Test Variance score: 0.06\n"
          ],
          "name": "stdout"
        }
      ]
    },
    {
      "cell_type": "code",
      "metadata": {
        "id": "cxW6ynlaCzXJ",
        "colab_type": "code",
        "colab": {
          "base_uri": "https://localhost:8080/",
          "height": 178
        },
        "outputId": "54441803-a544-44ff-c032-67044c8f2822"
      },
      "source": [
        "#Print Classification Report\n",
        "print(classification_report(y_test, clf2_predict))"
      ],
      "execution_count": 157,
      "outputs": [
        {
          "output_type": "stream",
          "text": [
            "              precision    recall  f1-score   support\n",
            "\n",
            "         0.0       0.88      1.00      0.93      1069\n",
            "         1.0       0.98      0.21      0.34       192\n",
            "\n",
            "    accuracy                           0.88      1261\n",
            "   macro avg       0.93      0.60      0.64      1261\n",
            "weighted avg       0.89      0.88      0.84      1261\n",
            "\n"
          ],
          "name": "stdout"
        }
      ]
    },
    {
      "cell_type": "code",
      "metadata": {
        "id": "BNEWqpQAY5Aa",
        "colab_type": "code",
        "colab": {
          "base_uri": "https://localhost:8080/",
          "height": 35
        },
        "outputId": "93becdd3-73ea-4b90-b00c-4e3ad02696b4"
      },
      "source": [
        "roc_auc_score(y_test, clf2_predict)"
      ],
      "execution_count": 158,
      "outputs": [
        {
          "output_type": "execute_result",
          "data": {
            "text/plain": [
              "0.6036989398191456"
            ]
          },
          "metadata": {
            "tags": []
          },
          "execution_count": 158
        }
      ]
    },
    {
      "cell_type": "code",
      "metadata": {
        "id": "RfNC01SwAUcH",
        "colab_type": "code",
        "colab": {
          "base_uri": "https://localhost:8080/",
          "height": 106
        },
        "outputId": "649e766c-75c2-4f07-f923-9fb960d5583c"
      },
      "source": [
        "# Hyper parameter Tuning SVM Classifier\n",
        "from sklearn.svm import LinearSVC\n",
        "clf3 = LinearSVC()\n",
        "parameters = {'multi_class': ('crammer_singer', 'ovr'), 'max_iter' : range(1,1000,50)\n",
        "              }\n",
        "\n",
        "clf3_random = RandomizedSearchCV(clf3,parameters,n_iter=5)\n",
        "clf3_random.fit(X_Train, y_train)\n",
        "grid_parm=clf3_random.best_params_\n",
        "print(grid_parm)\n",
        "\n",
        "#Using the parameters obtained from HyperParameterTuning in the DecisionTreeClassifier \n",
        "clf3 = LinearSVC(**grid_parm)\n",
        "clf3.fit(X_Train,y_train)"
      ],
      "execution_count": 167,
      "outputs": [
        {
          "output_type": "stream",
          "text": [
            "{'multi_class': 'ovr', 'max_iter': 151}\n"
          ],
          "name": "stdout"
        },
        {
          "output_type": "execute_result",
          "data": {
            "text/plain": [
              "LinearSVC(C=1.0, class_weight=None, dual=True, fit_intercept=True,\n",
              "          intercept_scaling=1, loss='squared_hinge', max_iter=151,\n",
              "          multi_class='ovr', penalty='l2', random_state=None, tol=0.0001,\n",
              "          verbose=0)"
            ]
          },
          "metadata": {
            "tags": []
          },
          "execution_count": 167
        }
      ]
    },
    {
      "cell_type": "code",
      "metadata": {
        "id": "GK9ysC9eAUVY",
        "colab_type": "code",
        "colab": {
          "base_uri": "https://localhost:8080/",
          "height": 53
        },
        "outputId": "f529834a-fa9a-4366-b7a4-2e5632e7eab7"
      },
      "source": [
        "clf3_predict = clf3.predict(X_Test)\n",
        "# The mean squared error\n",
        "print(\"Root Mean squared error: %.2f\"% np.sqrt(mean_squared_error(y_test, clf3_predict)))\n",
        "# Explained variance score: 1 is perfect prediction\n",
        "print('Test Variance score: %.2f' % r2_score(y_test, clf3_predict))"
      ],
      "execution_count": 168,
      "outputs": [
        {
          "output_type": "stream",
          "text": [
            "Root Mean squared error: 0.39\n",
            "Test Variance score: -0.18\n"
          ],
          "name": "stdout"
        }
      ]
    },
    {
      "cell_type": "code",
      "metadata": {
        "id": "mjV_tFyZAUQf",
        "colab_type": "code",
        "colab": {
          "base_uri": "https://localhost:8080/",
          "height": 178
        },
        "outputId": "46a3ef4f-da65-4320-a3db-86ff7dcd55f7"
      },
      "source": [
        "#Print Classification Report\n",
        "print(classification_report(y_test, clf2_predict))"
      ],
      "execution_count": 169,
      "outputs": [
        {
          "output_type": "stream",
          "text": [
            "              precision    recall  f1-score   support\n",
            "\n",
            "         0.0       0.88      1.00      0.93      1069\n",
            "         1.0       0.98      0.21      0.34       192\n",
            "\n",
            "    accuracy                           0.88      1261\n",
            "   macro avg       0.93      0.60      0.64      1261\n",
            "weighted avg       0.89      0.88      0.84      1261\n",
            "\n"
          ],
          "name": "stdout"
        }
      ]
    },
    {
      "cell_type": "code",
      "metadata": {
        "id": "skeX2q63AUF4",
        "colab_type": "code",
        "colab": {
          "base_uri": "https://localhost:8080/",
          "height": 35
        },
        "outputId": "9752a851-77d1-4bdd-8855-012435b0e456"
      },
      "source": [
        "roc_auc_score(y_test, clf2_predict)"
      ],
      "execution_count": 170,
      "outputs": [
        {
          "output_type": "execute_result",
          "data": {
            "text/plain": [
              "0.6036989398191456"
            ]
          },
          "metadata": {
            "tags": []
          },
          "execution_count": 170
        }
      ]
    },
    {
      "cell_type": "code",
      "metadata": {
        "id": "dHDWD0okCzmC",
        "colab_type": "code",
        "outputId": "c802ef1f-7bd0-437a-902a-ebb8c1dcc895",
        "colab": {
          "base_uri": "https://localhost:8080/",
          "height": 88
        }
      },
      "source": [
        "#SMOTE==============================================================================\n",
        "print(\"___________________________________________________________________\\nSMOTE\\n\")\n",
        "from imblearn.over_sampling import SMOTE \n",
        "from sklearn.svm import SVC\n",
        "from collections import Counter #for Smote, \n",
        "sm = SMOTE(sampling_strategy='float', ratio=0.5)\n",
        "X_res, y_res = sm.fit_resample(X_Train, y_train)\n",
        "print('Resampled dataset shape %s' % Counter(y_res))\n",
        "\n"
      ],
      "execution_count": 173,
      "outputs": [
        {
          "output_type": "stream",
          "text": [
            "___________________________________________________________________\n",
            "SMOTE\n",
            "\n",
            "Resampled dataset shape Counter({0: 1019, 1: 509})\n"
          ],
          "name": "stdout"
        }
      ]
    },
    {
      "cell_type": "code",
      "metadata": {
        "id": "aLXOfLwbFzZr",
        "colab_type": "code",
        "outputId": "24d0139d-a920-4fe6-8e46-161411c0f11a",
        "colab": {
          "base_uri": "https://localhost:8080/",
          "height": 607
        }
      },
      "source": [
        "#STACKING MODELS =====================================================================\n",
        "print(\"___________________________________________________________________________________________\\nEnsemble Methods Predictions using GradientBoosting, RandomForest and Decision Tree Classifier\\n\")\n",
        "\n",
        "models = [ MLPClassifier(solver= 'lbfgs', learning_rate= 'invscaling', activation= 'identity'), \n",
        "          RandomForestClassifier(n_estimators= 60, min_samples_split= 40, max_depth= 19), DecisionTreeClassifier(min_samples_split= 30, max_depth= 7, criterion= 'gini') ]\n",
        "      \n",
        "S_Train, S_Test = stacking(models,                   \n",
        "                           X_res, y_res, X_Test,   \n",
        "                           regression=False, \n",
        "     \n",
        "                           mode='oof_pred_bag', \n",
        "       \n",
        "                           needs_proba=False,\n",
        "         \n",
        "                           save_dir=None, \n",
        "            \n",
        "                           metric=accuracy_score, \n",
        "    \n",
        "                           n_folds=3, \n",
        "                 \n",
        "                           stratified=True,\n",
        "            \n",
        "                           shuffle=True,  \n",
        "            \n",
        "                           random_state=0,    \n",
        "         \n",
        "                           verbose=2)\n"
      ],
      "execution_count": 174,
      "outputs": [
        {
          "output_type": "stream",
          "text": [
            "___________________________________________________________________________________________\n",
            "Ensemble Methods Predictions using GradientBoosting, RandomForest and Decision Tree Classifier\n",
            "\n",
            "task:         [classification]\n",
            "n_classes:    [2]\n",
            "metric:       [accuracy_score]\n",
            "mode:         [oof_pred_bag]\n",
            "n_models:     [3]\n",
            "\n",
            "model  0:     [MLPClassifier]\n",
            "    fold  0:  [0.66666667]\n",
            "    fold  1:  [0.66666667]\n",
            "    fold  2:  [0.66535433]\n",
            "    ----\n",
            "    MEAN:     [0.66622922] + [0.00061864]\n",
            "    FULL:     [0.66623037]\n",
            "\n",
            "model  1:     [RandomForestClassifier]\n",
            "    fold  0:  [0.92352941]\n",
            "    fold  1:  [0.91176471]\n",
            "    fold  2:  [0.91929134]\n",
            "    ----\n",
            "    MEAN:     [0.91819515] + [0.00486507]\n",
            "    FULL:     [0.91819372]\n",
            "\n",
            "model  2:     [DecisionTreeClassifier]\n",
            "    fold  0:  [0.90588235]\n",
            "    fold  1:  [0.89411765]\n",
            "    fold  2:  [0.90551181]\n",
            "    ----\n",
            "    MEAN:     [0.90183727] + [0.00546069]\n",
            "    FULL:     [0.90183246]\n",
            "\n"
          ],
          "name": "stdout"
        }
      ]
    },
    {
      "cell_type": "code",
      "metadata": {
        "id": "h_OVZLOtZDXx",
        "colab_type": "code",
        "outputId": "eac37d9e-eada-45c8-8bdb-fc1cc7a7cab4",
        "colab": {
          "base_uri": "https://localhost:8080/",
          "height": 53
        }
      },
      "source": [
        "#STACKING - CONTRUCT A Random Forest MODEL==============================\n",
        "model = RandomForestClassifier()\n",
        "    \n",
        "model = model.fit(S_Train, y_res)\n",
        "y_pred = model.predict(S_Test)\n",
        "# The mean squared error\n",
        "print(\"Root Mean squared error: %.2f\"% np.sqrt(mean_squared_error(y_test, y_pred)))\n",
        "# Explained variance score: 1 is perfect prediction\n",
        "print('Test Variance score: %.2f' % r2_score(y_test, y_pred))"
      ],
      "execution_count": 176,
      "outputs": [
        {
          "output_type": "stream",
          "text": [
            "Root Mean squared error: 0.31\n",
            "Test Variance score: 0.26\n"
          ],
          "name": "stdout"
        }
      ]
    },
    {
      "cell_type": "code",
      "metadata": {
        "id": "qWTeQE11GH6J",
        "colab_type": "code",
        "outputId": "e3a6e585-4446-4e00-e7ec-6c2e955adc81",
        "colab": {
          "base_uri": "https://localhost:8080/",
          "height": 178
        }
      },
      "source": [
        "#Print Classification Report\n",
        "print(classification_report(y_test, y_pred))"
      ],
      "execution_count": 177,
      "outputs": [
        {
          "output_type": "stream",
          "text": [
            "              precision    recall  f1-score   support\n",
            "\n",
            "         0.0       0.92      0.97      0.95      1069\n",
            "         1.0       0.75      0.56      0.64       192\n",
            "\n",
            "    accuracy                           0.90      1261\n",
            "   macro avg       0.84      0.76      0.79      1261\n",
            "weighted avg       0.90      0.90      0.90      1261\n",
            "\n"
          ],
          "name": "stdout"
        }
      ]
    },
    {
      "cell_type": "code",
      "metadata": {
        "id": "htNutDc1GIbl",
        "colab_type": "code",
        "outputId": "74348740-7043-493c-d416-c2f83373c528",
        "colab": {
          "base_uri": "https://localhost:8080/",
          "height": 35
        }
      },
      "source": [
        "roc_auc_score(y_test, y_pred)"
      ],
      "execution_count": 178,
      "outputs": [
        {
          "output_type": "execute_result",
          "data": {
            "text/plain": [
              "0.7622753936700967"
            ]
          },
          "metadata": {
            "tags": []
          },
          "execution_count": 178
        }
      ]
    },
    {
      "cell_type": "code",
      "metadata": {
        "id": "EvcJrTx7GpRR",
        "colab_type": "code",
        "colab": {}
      },
      "source": [
        ""
      ],
      "execution_count": 0,
      "outputs": []
    },
    {
      "cell_type": "code",
      "metadata": {
        "id": "FW0QvJSnZRxN",
        "colab_type": "code",
        "colab": {}
      },
      "source": [
        ""
      ],
      "execution_count": 0,
      "outputs": []
    },
    {
      "cell_type": "code",
      "metadata": {
        "id": "f3n9aiokGiCF",
        "colab_type": "code",
        "colab": {}
      },
      "source": [
        ""
      ],
      "execution_count": 0,
      "outputs": []
    },
    {
      "cell_type": "code",
      "metadata": {
        "id": "zbeSg2DILZXO",
        "colab_type": "code",
        "colab": {}
      },
      "source": [
        ""
      ],
      "execution_count": 0,
      "outputs": []
    },
    {
      "cell_type": "code",
      "metadata": {
        "id": "Hkx3BRMkLZOW",
        "colab_type": "code",
        "colab": {}
      },
      "source": [
        ""
      ],
      "execution_count": 0,
      "outputs": []
    },
    {
      "cell_type": "code",
      "metadata": {
        "id": "Pgtd8U-oBXAe",
        "colab_type": "code",
        "colab": {}
      },
      "source": [
        ""
      ],
      "execution_count": 0,
      "outputs": []
    }
  ]
}